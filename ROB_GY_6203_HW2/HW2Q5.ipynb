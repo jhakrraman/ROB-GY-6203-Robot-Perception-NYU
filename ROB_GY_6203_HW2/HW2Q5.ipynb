{
 "cells": [
  {
   "cell_type": "code",
   "execution_count": 12,
   "metadata": {},
   "outputs": [],
   "source": [
    "import cv2\n",
    "import os\n",
    "\n",
    "# Load query images\n",
    "query_images = [cv2.imread(f'/Users/Lenovo/Downloads/Homework2/task_5/query/query_{i}.jpg') for i in range(1, 4)]\n",
    "\n",
    "# Load surveillance images\n",
    "surveillance_images = []\n",
    "image_folder = 'task_5/database'\n",
    "for filename in os.listdir(image_folder):\n",
    "    img = cv2.imread(os.path.join(image_folder, filename))\n",
    "    if img is not None:\n",
    "        surveillance_images.append((filename, img))"
   ]
  },
  {
   "cell_type": "code",
   "execution_count": 13,
   "metadata": {},
   "outputs": [],
   "source": [
    "def preprocess_image(image):\n",
    "    # Resize image to a standard size (e.g., 256x256)\n",
    "    resized_image = cv2.resize(image, (256, 256))\n",
    "    # Convert to grayscale\n",
    "    gray_image = cv2.cvtColor(resized_image, cv2.COLOR_BGR2GRAY)\n",
    "    return gray_image\n",
    "\n",
    "preprocessed_query_images = [preprocess_image(img) for img in query_images]\n",
    "preprocessed_surveillance_images = [(filename, preprocess_image(img)) for filename, img in surveillance_images]"
   ]
  },
  {
   "cell_type": "code",
   "execution_count": 14,
   "metadata": {},
   "outputs": [],
   "source": [
    "orb = cv2.ORB_create()\n",
    "\n",
    "def extract_features(image):\n",
    "    # Detect keypoints and descriptors using ORB\n",
    "    keypoints, descriptors = orb.detectAndCompute(image, None)\n",
    "    return keypoints, descriptors\n",
    "\n",
    "query_features = [extract_features(img) for img in preprocessed_query_images]\n",
    "surveillance_features = [(filename, extract_features(img)) for filename, img in preprocessed_surveillance_images]"
   ]
  },
  {
   "cell_type": "code",
   "execution_count": 15,
   "metadata": {},
   "outputs": [],
   "source": [
    "bf = cv2.BFMatcher(cv2.NORM_HAMMING, crossCheck=True)\n",
    "\n",
    "def match_features(query_descriptors, surveillance_descriptors):\n",
    "    matches = bf.match(query_descriptors, surveillance_descriptors)\n",
    "    # Sort matches by distance (lower distance is better)\n",
    "    matches = sorted(matches, key=lambda x: x.distance)\n",
    "    return matches\n",
    "\n",
    "# Find best matches for each query image\n",
    "best_matches = {}\n",
    "for i, (q_kp, q_desc) in enumerate(query_features):\n",
    "    best_match_filename = None\n",
    "    best_match_count = 0\n",
    "    \n",
    "    for filename, (s_kp, s_desc) in surveillance_features:\n",
    "        if s_desc is not None:\n",
    "            matches = match_features(q_desc, s_desc)\n",
    "            if len(matches) > best_match_count:\n",
    "                best_match_count = len(matches)\n",
    "                best_match_filename = filename\n",
    "    \n",
    "    best_matches[f'Query Image {i+1}'] = best_match_filename"
   ]
  },
  {
   "cell_type": "code",
   "execution_count": 16,
   "metadata": {},
   "outputs": [],
   "source": [
    "import matplotlib.pyplot as plt\n",
    "\n",
    "# Directory where you want to save the result images\n",
    "output_folder = 'matched_query'\n",
    "\n",
    "# Create the folder if it doesn't exist\n",
    "if not os.path.exists(output_folder):\n",
    "    os.makedirs(output_folder)\n",
    "\n",
    "for i in range(3):\n",
    "    matched_filename = best_matches[f'Query Image {i+1}']\n",
    "    matched_image = cv2.imread(os.path.join(image_folder, matched_filename))\n",
    "    \n",
    "    plt.figure(figsize=(10, 5))\n",
    "    \n",
    "    # Plot query image\n",
    "    plt.subplot(1, 2, 1)\n",
    "    plt.imshow(cv2.cvtColor(query_images[i], cv2.COLOR_BGR2RGB))\n",
    "    plt.title(f'Query Image {i+1}')\n",
    "    \n",
    "    # Plot matched surveillance image\n",
    "    plt.subplot(1, 2, 2)\n",
    "    plt.imshow(cv2.cvtColor(matched_image, cv2.COLOR_BGR2RGB))\n",
    "    plt.title(f'Matched Surveillance Image: {matched_filename}')\n",
    "    \n",
    "    # Save the figure instead of showing it\n",
    "    output_path = os.path.join(output_folder, f'match_result_{i+1}.png')\n",
    "    plt.savefig(output_path)\n",
    "    \n",
    "    # Close the figure to free memory\n",
    "    plt.close()"
   ]
  },
  {
   "cell_type": "code",
   "execution_count": null,
   "metadata": {},
   "outputs": [],
   "source": []
  }
 ],
 "metadata": {
  "kernelspec": {
   "display_name": "Python 3",
   "language": "python",
   "name": "python3"
  },
  "language_info": {
   "codemirror_mode": {
    "name": "ipython",
    "version": 3
   },
   "file_extension": ".py",
   "mimetype": "text/x-python",
   "name": "python",
   "nbconvert_exporter": "python",
   "pygments_lexer": "ipython3",
   "version": "3.9.6"
  }
 },
 "nbformat": 4,
 "nbformat_minor": 2
}
