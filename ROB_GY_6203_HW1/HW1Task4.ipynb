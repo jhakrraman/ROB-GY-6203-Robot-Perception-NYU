{
  "nbformat": 4,
  "nbformat_minor": 0,
  "metadata": {
    "colab": {
      "provenance": []
    },
    "kernelspec": {
      "name": "python3",
      "display_name": "Python 3"
    },
    "language_info": {
      "name": "python"
    }
  },
  "cells": [
    {
      "cell_type": "code",
      "source": [
        "!pip install --upgrade opencv-python\n",
        "!pip install --upgrade opencv-contrib-python"
      ],
      "metadata": {
        "colab": {
          "base_uri": "https://localhost:8080/"
        },
        "id": "xWgzBJ95loFw",
        "outputId": "4591ee41-7b48-40e5-a4d7-4c25f154db9b"
      },
      "execution_count": 5,
      "outputs": [
        {
          "output_type": "stream",
          "name": "stdout",
          "text": [
            "Requirement already satisfied: opencv-python in /usr/local/lib/python3.10/dist-packages (4.10.0.84)\n",
            "Requirement already satisfied: numpy>=1.21.2 in /usr/local/lib/python3.10/dist-packages (from opencv-python) (1.26.4)\n",
            "Requirement already satisfied: opencv-contrib-python in /usr/local/lib/python3.10/dist-packages (4.10.0.84)\n",
            "Requirement already satisfied: numpy>=1.21.2 in /usr/local/lib/python3.10/dist-packages (from opencv-contrib-python) (1.26.4)\n"
          ]
        }
      ]
    },
    {
      "cell_type": "code",
      "execution_count": 26,
      "metadata": {
        "id": "0AZII85t8EwB"
      },
      "outputs": [],
      "source": [
        "import cv2\n",
        "import numpy as np\n",
        "from google.colab.patches import cv2_imshow\n",
        "from google.colab import files"
      ]
    },
    {
      "cell_type": "code",
      "source": [
        "K = np.array([[2264.91561, 0, 1283.24475],\n",
        "              [0, 2273.53741, 890.85699],\n",
        "              [0, 0, 1]])"
      ],
      "metadata": {
        "id": "3O4YlgQ48Hb-"
      },
      "execution_count": 27,
      "outputs": []
    },
    {
      "cell_type": "code",
      "source": [
        "def draw_cube(img, corners, imgpts):\n",
        "    imgpts = np.int32(imgpts).reshape(-1,2)\n",
        "\n",
        "    # Draw ground floor in green\n",
        "    img = cv2.drawContours(img, [imgpts[:4]], -1, (0,255,0), 3)\n",
        "\n",
        "    # Draw pillars in blue color\n",
        "    for i,j in zip(range(4), range(4,8)):\n",
        "        img = cv2.line(img, tuple(imgpts[i]), tuple(imgpts[j]), (255,0,0), 3)\n",
        "\n",
        "    # Draw top layer in red color\n",
        "    img = cv2.drawContours(img, [imgpts[4:]], -1, (0,0,255), 3)\n",
        "\n",
        "    return img\n",
        "\n",
        "# Load image\n",
        "image = cv2.imread(\"/content/april3.jpeg\")\n",
        "gray = cv2.cvtColor(image, cv2.COLOR_BGR2GRAY)\n",
        "\n",
        "# Apply adaptive thresholding\n",
        "#gray = cv2.adaptiveThreshold(gray, 255, cv2.ADAPTIVE_THRESH_MEAN_C, cv2.THRESH_BINARY, 11, 2)\n",
        "\n",
        "# List of dictionaries to try\n",
        "dictionaries = [\n",
        "    cv2.aruco.DICT_4X4_50,\n",
        "    cv2.aruco.DICT_4X4_100,\n",
        "    cv2.aruco.DICT_4X4_250,\n",
        "    cv2.aruco.DICT_5X5_50,\n",
        "    cv2.aruco.DICT_5X5_100,\n",
        "    cv2.aruco.DICT_5X5_250,\n",
        "    cv2.aruco.DICT_6X6_50,\n",
        "    cv2.aruco.DICT_6X6_100,\n",
        "    cv2.aruco.DICT_6X6_250,\n",
        "    cv2.aruco.DICT_7X7_50,\n",
        "    cv2.aruco.DICT_7X7_100,\n",
        "    cv2.aruco.DICT_7X7_250\n",
        "]\n",
        "\n",
        "for dict_type in dictionaries:\n",
        "    # Create ArUco dictionary\n",
        "    aruco_dict = cv2.aruco.getPredefinedDictionary(dict_type)\n",
        "\n",
        "    # Create ArUco parameters\n",
        "    parameters = cv2.aruco.DetectorParameters()\n",
        "\n",
        "    # Adjust parameters\n",
        "    parameters.adaptiveThreshConstant = 7\n",
        "    parameters.adaptiveThreshWinSizeMin = 3\n",
        "    parameters.adaptiveThreshWinSizeMax = 23\n",
        "    parameters.adaptiveThreshWinSizeStep = 10\n",
        "    parameters.minMarkerPerimeterRate = 0.03\n",
        "    parameters.maxMarkerPerimeterRate = 4.0\n",
        "    parameters.polygonalApproxAccuracyRate = 0.05\n",
        "    parameters.minCornerDistanceRate = 0.05\n",
        "    parameters.minDistanceToBorder = 3\n",
        "\n",
        "    # Create ArUco detector\n",
        "    detector = cv2.aruco.ArucoDetector(aruco_dict, parameters)\n",
        "\n",
        "    # Detect markers\n",
        "    corners, ids, rejected = detector.detectMarkers(gray)\n",
        "\n",
        "    # If markers are detected, draw them and break the loop\n",
        "    if ids is not None and len(ids) > 0:\n",
        "        print(f\"Markers detected using dictionary: {dict_type}\")\n",
        "        cv2.aruco.drawDetectedMarkers(image, corners, ids)\n",
        "\n",
        "        # Estimate pose for each marker\n",
        "        rvecs, tvecs, _ = cv2.aruco.estimatePoseSingleMarkers(corners, 0.05, K, None)\n",
        "\n",
        "        for i in range(len(ids)):\n",
        "            # Project 3D points to image plane\n",
        "            axis = np.float32([[0,0,0], [0,0.05,0], [0.05,0.05,0], [0.05,0,0],\n",
        "                               [0,0,-0.05], [0,0.05,-0.05], [0.05,0.05,-0.05], [0.05,0,-0.05]])\n",
        "            imgpts, jac = cv2.projectPoints(axis, rvecs[i], tvecs[i], K, None)\n",
        "\n",
        "            # Draw cube\n",
        "            image = draw_cube(image, corners[i], imgpts)\n",
        "\n",
        "            # Draw axis\n",
        "            cv2.drawFrameAxes(image, K, None, rvecs[i], tvecs[i], 0.1)\n",
        "\n",
        "        # Display the result\n",
        "        cv2.imwrite('output_image.jpg', image)\n",
        "\n",
        "        break\n",
        "else:\n",
        "    print(\"No ArUco markers detected with any dictionary\")\n",
        "    cv2_imshow(image)  # Display the preprocessed image for debugging"
      ],
      "metadata": {
        "colab": {
          "base_uri": "https://localhost:8080/"
        },
        "id": "BiFoEWP18Y9D",
        "outputId": "428f3d72-aef7-49a0-ec4c-ba9c33d3af00"
      },
      "execution_count": 56,
      "outputs": [
        {
          "output_type": "stream",
          "name": "stdout",
          "text": [
            "Markers detected using dictionary: 2\n"
          ]
        }
      ]
    },
    {
      "cell_type": "code",
      "source": [],
      "metadata": {
        "id": "tVldBFY88dRL"
      },
      "execution_count": null,
      "outputs": []
    }
  ]
}