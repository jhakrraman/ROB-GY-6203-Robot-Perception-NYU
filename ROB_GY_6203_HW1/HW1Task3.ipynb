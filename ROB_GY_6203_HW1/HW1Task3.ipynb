{
  "nbformat": 4,
  "nbformat_minor": 0,
  "metadata": {
    "colab": {
      "provenance": [],
      "gpuType": "T4"
    },
    "kernelspec": {
      "name": "python3",
      "display_name": "Python 3"
    },
    "language_info": {
      "name": "python"
    },
    "accelerator": "GPU"
  },
  "cells": [
    {
      "cell_type": "markdown",
      "source": [
        "**Task3_Images_from_1m**"
      ],
      "metadata": {
        "id": "qW1-Cj2MAz17"
      }
    },
    {
      "cell_type": "markdown",
      "source": [],
      "metadata": {
        "id": "1uCTtos-tJ_d"
      }
    },
    {
      "cell_type": "code",
      "source": [
        "import numpy as np\n",
        "import cv2"
      ],
      "metadata": {
        "id": "1vPl509L67vM"
      },
      "execution_count": 2,
      "outputs": []
    },
    {
      "cell_type": "code",
      "source": [
        "calibration_images = []\n",
        "\n",
        "#Image paths for 10 images named 1.jpeg to 10.jpeg\n",
        "image_paths = [f'/content/{i}.jpeg' for i in range(10)]\n",
        "\n",
        "# Loading and appending each image to the calibration_images list\n",
        "for idx, path in enumerate(image_paths, 1):\n",
        "    img = cv2.imread(path)\n",
        "    if img is not None:\n",
        "        calibration_images.append(img)"
      ],
      "metadata": {
        "id": "6RrGEIrA7JOl"
      },
      "execution_count": 27,
      "outputs": []
    },
    {
      "cell_type": "code",
      "source": [
        "# Grid dimensions for the checkerboard pattern\n",
        "grid_rows = 8\n",
        "grid_cols = 8\n",
        "\n",
        "# 3D object points and 2D image points\n",
        "real_world_points = []\n",
        "projected_image_points = []\n",
        "\n",
        "# 3D points for the checkerboard pattern (Z=0 for all points)\n",
        "grid_3d_points = np.zeros((grid_rows * grid_cols, 3), np.float32)\n",
        "grid_3d_points[:, :2] = np.indices((grid_cols, grid_rows)).T.reshape(-1, 2)"
      ],
      "metadata": {
        "id": "jVZUM1semyor"
      },
      "execution_count": 28,
      "outputs": []
    },
    {
      "cell_type": "code",
      "source": [
        "for image in calibration_images:\n",
        "    # Image to grayscale\n",
        "    grayscale_image = cv2.cvtColor(image, cv2.COLOR_BGR2GRAY)\n",
        "\n",
        "    # Detecting the chessboard corners\n",
        "    success, corner_points = cv2.findChessboardCorners(grayscale_image, (grid_cols, grid_rows), None)\n",
        "\n",
        "    # If corners are found, store the 3D and 2D points\n",
        "    if success:\n",
        "        real_world_points.append(grid_3d_points)\n",
        "        projected_image_points.append(corner_points)"
      ],
      "metadata": {
        "id": "D2b0O5VznIsw"
      },
      "execution_count": 29,
      "outputs": []
    },
    {
      "cell_type": "code",
      "source": [
        "image_dimensions = grayscale_image.shape[::-1]\n",
        "\n",
        "# Camera calibration process\n",
        "calibration_status, intrinsic_matrix, distortion_coeffs, rotation_vectors, translation_vectors = cv2.calibrateCamera(\n",
        "    real_world_points, projected_image_points, image_dimensions, None, None)\n",
        "\n",
        "# Extract the first two distortion parameters\n",
        "distortion_param_1, distortion_param_2, *_ = distortion_coeffs.flatten()"
      ],
      "metadata": {
        "id": "0AYUosoMnkui"
      },
      "execution_count": 30,
      "outputs": []
    },
    {
      "cell_type": "code",
      "source": [
        "# Intrinsic camera matrix\n",
        "print(\"Intrinsic Matrix parameter(K):\")\n",
        "print(intrinsic_matrix)\n",
        "\n",
        "# First two distortion coefficients\n",
        "print(\"Distortion Coefficients (k1, k2):\")\n",
        "print(distortion_param_1, distortion_param_2)"
      ],
      "metadata": {
        "colab": {
          "base_uri": "https://localhost:8080/"
        },
        "id": "BPaFsV6kn8nn",
        "outputId": "3fc535d4-5a6b-4d9c-d222-eae5ea49478f"
      },
      "execution_count": 31,
      "outputs": [
        {
          "output_type": "stream",
          "name": "stdout",
          "text": [
            "Intrinsic Matrix parameter(K):\n",
            "[[2.26491561e+03 0.00000000e+00 1.28324475e+03]\n",
            " [0.00000000e+00 2.27353741e+03 8.90856990e+02]\n",
            " [0.00000000e+00 0.00000000e+00 1.00000000e+00]]\n",
            "Distortion Coefficients (k1, k2):\n",
            "-0.008142203590221605 -1.3203650369970834\n"
          ]
        }
      ]
    }
  ]
}